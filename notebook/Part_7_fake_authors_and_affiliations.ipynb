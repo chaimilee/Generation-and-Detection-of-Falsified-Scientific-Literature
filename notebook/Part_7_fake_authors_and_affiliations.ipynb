{
  "nbformat": 4,
  "nbformat_minor": 0,
  "metadata": {
    "colab": {
      "provenance": []
    },
    "kernelspec": {
      "name": "python3",
      "display_name": "Python 3"
    },
    "language_info": {
      "name": "python"
    }
  },
  "cells": [
    {
      "cell_type": "markdown",
      "source": [
        "Write a Python program and use sites like FakeNameGenerator and generate the\n",
        "Author Names, and affiliations sampled from your 200 Bik papers for your new\n",
        "falsified papers"
      ],
      "metadata": {
        "id": "6QXUhNouqewy"
      }
    },
    {
      "cell_type": "code",
      "execution_count": null,
      "metadata": {
        "colab": {
          "base_uri": "https://localhost:8080/"
        },
        "id": "-R0phsM6l8m_",
        "outputId": "a7bd9629-37d9-4597-8a00-19064fc353e9"
      },
      "outputs": [
        {
          "output_type": "stream",
          "name": "stdout",
          "text": [
            "Collecting fng-api==0.0.5\n",
            "  Downloading fng_api-0.0.5-py3-none-any.whl (5.8 kB)\n",
            "Requirement already satisfied: bs4 in /usr/local/lib/python3.7/dist-packages (from fng-api==0.0.5) (0.0.1)\n",
            "Requirement already satisfied: requests in /usr/local/lib/python3.7/dist-packages (from fng-api==0.0.5) (2.23.0)\n",
            "Requirement already satisfied: beautifulsoup4 in /usr/local/lib/python3.7/dist-packages (from bs4->fng-api==0.0.5) (4.6.3)\n",
            "Requirement already satisfied: certifi>=2017.4.17 in /usr/local/lib/python3.7/dist-packages (from requests->fng-api==0.0.5) (2021.10.8)\n",
            "Requirement already satisfied: idna<3,>=2.5 in /usr/local/lib/python3.7/dist-packages (from requests->fng-api==0.0.5) (2.10)\n",
            "Requirement already satisfied: urllib3!=1.25.0,!=1.25.1,<1.26,>=1.21.1 in /usr/local/lib/python3.7/dist-packages (from requests->fng-api==0.0.5) (1.24.3)\n",
            "Requirement already satisfied: chardet<4,>=3.0.2 in /usr/local/lib/python3.7/dist-packages (from requests->fng-api==0.0.5) (3.0.4)\n",
            "Installing collected packages: fng-api\n",
            "Successfully installed fng-api-0.0.5\n"
          ]
        }
      ],
      "source": [
        "pip install fng-api==0.0.5"
      ]
    },
    {
      "cell_type": "code",
      "source": [
        "import re\n",
        "import pandas as pd\n",
        "import random"
      ],
      "metadata": {
        "id": "TUHTvw7CviQs"
      },
      "execution_count": null,
      "outputs": []
    },
    {
      "cell_type": "code",
      "source": [
        "from fng_api import *"
      ],
      "metadata": {
        "id": "08YkNv5dmDsO"
      },
      "execution_count": null,
      "outputs": []
    },
    {
      "cell_type": "code",
      "source": [
        "# generate random list of author names\n",
        "pdf_authors = []\n",
        "number_of_pdfs = 500\n",
        "for i in range(number_of_pdfs):\n",
        "  identity = getIdentity()\n",
        "  pdf_authors.append(identity.name)"
      ],
      "metadata": {
        "id": "Gyje9l6Ys3TZ"
      },
      "execution_count": null,
      "outputs": []
    },
    {
      "cell_type": "code",
      "source": [
        "# allowing to use google sheets\n",
        "from google.colab import auth\n",
        "auth.authenticate_user()\n",
        "\n",
        "import gspread\n",
        "from google.auth import default\n",
        "creds, _ = default()\n",
        "\n",
        "gc = gspread.authorize(creds)"
      ],
      "metadata": {
        "id": "jvGCgxIk2sou"
      },
      "execution_count": null,
      "outputs": []
    },
    {
      "cell_type": "code",
      "source": [
        "# opening bik dataset\n",
        "sheet = gc.open('Final_bik_dataset').sheet1"
      ],
      "metadata": {
        "id": "qP_7X2nm26b4"
      },
      "execution_count": null,
      "outputs": []
    },
    {
      "cell_type": "code",
      "source": [
        "# extracting all affiliations as dataframe\n",
        "rows = sheet.get_all_values()\n",
        "df = pd.DataFrame.from_records(rows)\n",
        "new_header = df.iloc[0]\n",
        "df = df[1:]\n",
        "df.columns = new_header\n",
        "df_affiliations = df[df.columns[24]]\n",
        "\n",
        "# convert dataframe to list of affiliations\n",
        "list_of_affiliations = df_affiliations.values.tolist()\n",
        "print(list_of_affiliations) # UNCOMMENT TO SEE LIST"
      ],
      "metadata": {
        "colab": {
          "base_uri": "https://localhost:8080/"
        },
        "id": "hmArKjww3DI2",
        "outputId": "e74b5430-8a37-480f-8fd4-90f33535d481"
      },
      "execution_count": null,
      "outputs": [
        {
          "output_type": "stream",
          "name": "stdout",
          "text": [
            "['Institute of Pharmacology, Toxicology and Pharmacy, Ludwig-Maximilians-University, Munich, Germany', 'Department of Genetics, Washington University School of Medicine, St. Louis, Missouri, United States of America', 'Department of Oral Biology and Pathology, School of Dental Medicine, Stony Brook University, Stony Brook, New York, United States of America', 'Oncology Research, Pfizer Worldwide Research and Development, San Diego, California, United States of America', 'Neurophysiology Laboratory, Department of Pharmacology and Experimental Neuroscience, University of Nebraska Medical Center, Omaha, Nebraska, United States of America', 'Thoracic Surgery, Key Laboratory of Carcinogenesis and Translational Research Ministry of Education, Peking University School of Oncology, Beijing Cancer Hospital & Institute, Beijing, China', 'Discipline of Microbiology and Immunology, School of Molecular and Biomedical Science, University of Adelaide, Adelaide, Australia', 'Department of Emergency and Organ Transplantation, University of Bari, Bari, Italy', 'Department of Biochemistry and Molecular Biology, Bengbu Medical College, Bengbu, Anhui, China', 'Department of Neurology, The Agnes Ginges Center for Human Neurogenetics, Hadassah University Hospital, Jerusalem, Israel', 'School of Pharmacy, Second Military Medical University, Shanghai, China', 'Department of Cardiology, Zhongda Hospital, Medical School of Southeast University, Nanjing, Jiangsu, China', 'University of Glasgow School of Medicine, Institute of Medical Genetics, Yorkhill Hospital, Glasgow, United Kingdom', 'Departments of Medicine, Biochemistry and Molecular Biology, Indiana University School of Medicine, The Melvin and Bren Simon Cancer Center and the Center for Pancreatic Cancer Research, Indianapolis, Indiana, United States of America', 'National Creative Research Initiatives Center for Nuclear Receptor Signals, Hormone Research Center, School of Biological Sciences and Technology, Chonnam National University, Gwangju, Republic of Korea', 'Department of Developmental, Molecular and Chemical Biology, Tufts University School of Medicine, Boston, Massachusetts, United States of America', 'Blood Transfusion Centre of Slovenia, Ljubljana, Slovenia', \"Anesthesia Department, the Second Affiliated Hospital, School of Medicine, Xi'an Jiaotong University, Xi'an, P. R. China\", 'CNRS UMR 5203, INSERM U661, and Montpellier 1 & 2 University, Institute of Functional Genomics, Montpellier, France', 'Department of Pharmacology, National Medicines Institute, Warsaw, Poland', 'Division of Cardio-Vascular Medicine, Department of Internal Medicine, Kurume University School of Medicine, Fukuoka, Japan', 'Department of Gastroenterology, Justus Liebig University, Giessen, Germany', 'State Key Laboratory for Agrobiotechnology and Key Laboratory of Crop Heterosis and Utilization (MOE), Beijing Key Laboratory of Crop Genetic Improvement, China Agricultural University, Beijing, China', 'Department of Biology and Biochemistry and the Centre for Regenerative Medicine, University of Bath, Bath, United Kingdom', 'Department of Microbiology, Laboratory of Mycotoxins and Toxigenic Fungi, University of SÃ£o Paulo, SÃ£o Paulo, SÃ£o Paulo, Brazil', 'Advanced Laboratory for Plant Genetic Engineering, Advanced Technology Development Centre, Indian Institute of Technology Kharagpur, Kharagpur, India', 'Department of Animal and Poultry Sciences, Virginia Tech, Blacksburg, Virginia, United States of America', 'Department of Surgery, University of Wisconsin Hospital and Clinics, Madison, Wisconsin, United States of America', 'Department of Laboratory Medicine, The First Affiliated Hospital of Sun Yat-sen University, Guangzhou, Guangdong, China', 'Department of Pathology, Microbiology and Immunology, School of Medicine, University of South Carolina, Columbia, South Carolina, United States of America', 'Institute of Orthopedic Surgery, Xijing Hospital, Fourth Military Medical University, Xiâ\\x80\\x99an, Peopleâ\\x80\\x99s Republic of China', 'Department of Radiation Medicine, Institute of Modern physics, Chinese Academy of Sciences, Lanzhou, China', 'Department of Biochemistry, Institute of Medical Sciences, Banaras Hindu University, Varanasi, India', 'Department of Biochemistry, Osmania University, Hyderabad, A.P., India', 'Program in Developmental Biology, Baylor College of Medicine, Houston, Texas, United States of America', 'Department of Comparative Physiology, Uppsala University, Uppsala, Sweden', 'National Human Genome Research Institute, National Institutes of Health, Bethesda, Maryland, United States of America', 'Department of Molecular and Human Genetics, Baylor College of Medicine, Houston, Texas, United States of America', 'Bellvitge Biomedical Research Institute (IDIBELL), Barcelona, Spain', 'Department of Nephrology, University of California, San Francisco, San Francisco, California, United States of America', 'Center for Microbial Interface Biology, Department of Microbial Infection and Immunity, The Ohio State University, Columbus, Ohio, United States of America', 'Instituto de BiologÃ\\xada Molecular y Celular de Plantas, Universidad PolitÃ©cnica de Valencia-C.S.I.C, Ciudad PolitÃ©cnica de la InnovaciÃ³n, Valencia, Spain', 'CAS Key Laboratory of Pathogenic Microbiology and Immunology, Institute of Microbiology, Chinese Academy of Sciences, Beijing, China', 'Division of Infection and Immunity, University College London, London, United Kingdom', 'Department of Comparative Physiology, Uppsala University, Uppsala, Sweden', 'Program on Emerging Infectious Diseases, DUKE-NUS Graduate Medical School, Singapore', \"Department of Medicine, Addenbrooke's Hospital, University of Cambridge, Cambridge, United Kingdom\", 'CENAR and Department of Molecular Medicine, Faculty of Medicine, University of Malaya, Kuala Lumpur, Malaysia', 'Department of Microbiology and Molecular Genetics, University of Pittsburgh School of Medicine, Pittsburgh, Pennsylvania, USA.', 'School of Medical Sciences, University of Aberdeen, Institute of Medical Sciences, Foresterhill, Aberdeen, United Kingdom.', 'Department of Tropical Medicine, Tulane University, School of Public Health and Tropical Medicine, New Orleans, Louisiana, USA.', 'Department of Biomedical Sciences and Periodontics, Baylor College of Dentistry, Dallas, Texas, USA.', 'Department of Biochemistry and Molecular Biology, Wright State University School of Medicine, Dayton, Ohio 45435, USA. bwilson@wright.edu', 'Department of Veterinary PathoBiology, College of Veterinary Medicine, University of Minnesota, St. Paul, Minnesota 55108, USA.', '', 'Department of Oral and Molecular Microbiology, Osaka University Graduate School of Dentistry, 1-8 Yamadaoka, Japan. okahashi@dent.osaka-u.ac.jp', '', '', 'Department of Pediatrics, Dalhousie University, Halifax, Nova Scotia B3J 3G9, Canada.', 'Institute of Dental Research, Westmead Millennium Institute and Centre for Oral Health, Westmead Hospital, P.O. Box 533, Wentworthville, Sydney, NSW 2145, Australia. plwyun@yahoo.com', '', \"Department of Pediatrics, Children's Hospital, Room 2.300, University of Texas Medical Branch, 301 University Blvd., Galveston, TX 77555, USA.\", \"Department of Surgery, The Saban Research Institute, Children's Hospital Los Angeles, and Keck School of Medicine, University of Southern California,4 Los Angeles, California 90027, USA.\", 'Department of Biologic and Materials Sciences, University of Michigan School of Dentistry, University of Michigan School of Medicine, Ann Arbor, Michigan, USA.', 'Evans BioMedical Research Center, Section of Infectious Diseases, Department of Medicine, Boston University School of Medicine, Rm. 635, 650 Albany Street, Boston, MA 02118, USA. pmassari@bu.edu', 'Division of High-risk Pathogen Research, Center for Infectious Diseases, National Institute of Health, 194 Tongil-Lo, Eunpyung-gu, Seoul 122-701, Korea.', 'Department of Microbiology and Immunology, Nihon University School of Dentistry at Matsudo, 2-870-1 Sakaecho-Nishi, Matsudo, Chiba 271-8587, Japan.', 'UniversitÃ© de Lyon, UniversitÃ© Lyon 1, CNRS UMR 5240 Microbiologie, Adaptation et PathogÃ©nie, 69622 Villeurbanne, France.', 'Case Western Reserve University, Center for Global Health and Diseases, Cleveland, Ohio, USA.', 'Laboratory of Lung Biology, Department of Pathobiological Sciences and Center for Experimental Infectious Disease Research, Harvard Medical School, Boston, Massachusetts, USA.', 'The Biodesign Institute, Center for Infectious Diseases and Vaccinology, Arizona State University, Tempe, Arizona, USA. jasantanderm@asu.edu', 'Program in Vector-Borne Diseases, Department of Veterinary Microbiology and Pathology, Paul G. Allen School for Global Animal Health, Washington State University, Pullman, Washington, USA.', 'Mikrobiologisches Institut, UniversitÃ¤tsklinikum Erlangen, Erlangen, Germany.', 'Key Laboratory of Experimental Marine Biology, Institute of Oceanology, Chinese Academy of Sciences, Qingdao, China.', 'Departamento de BioquÃ\\xadmica y BiologÃ\\xada Molecular, Facultad de Ciencias QuÃ\\xadmicas y FarmacÃ©uticas, Universidad de Chile, Santiago, Chile.', 'Department of Biochemistry and Molecular Biology, School of Medicine and Health Sciences, University of North Dakota, Grand Forks, North Dakota, USA.', 'Department of Molecular Biology and Microbiology, Graduate Program in Molecular Microbiology, Sackler School of Graduate Biomedical Science, Tufts University School of Medicine, Boston, Massachusetts, USA.', 'Department of Diagnostic and Biological Sciences, School of Dentistry, University of Minnesota, Minneapolis, Minnesota, USA.', 'Anhui Provincial Laboratories of Pathogen Biology and Zoonoses, Department of Microbiology and Parasitology, Anhui Medical University, Hefei, China.', 'College of Veterinary Medicine, Nanjing Agricultural University, Nanjing, China Key Lab of Animal Bacteriology, Ministry of Agriculture, Nanjing, China.', 'Department of Veterinary Biosciences, College of Veterinary Medicine, The Ohio State University, Columbus 43210-1093, USA.', 'Department of Microbiology, Oregon State University, Corvallis, Oregon 9731, USA.', 'Department of Applied Veterinary Science, Research Center for Animal Hygiene and Food Safety, Obihiro University of Agriculture and Veterinary Medicine, Hokkaido Institute of Public Health, Hokkaido, Japan. smakino@obihiro.ac.jp', 'Department of Medicine, United Christian Hospital, The University of Hong Kong, Hong Kong.', 'Department of Microbiology, The University of Hong Kong, University Pathology Building, Queen Mary Hospital, Hong Kong. hkumicro@hkucc.hku.hk.', 'Department of Parasitology, Asahikawa Medical College, Asahikawa, Japan.', \"Laboratoire Universitaire d'Antibiologie, FacultÃ© de MÃ©decine, CS83021, Avenue Kennedy, 30908 NÃ®mes Cedex 02, France.\", 'Department of Microbiology, Oregon State University, Corvallis, OR 97331, USA.', 'Servicio de MicrobiologÃ\\xada, Hospital Son Dureta and Instituto Universitario de InvestigaciÃ³n en Ciencias de la Salud, Palma de Mallorca, Spain.', 'Crete Veterinary Clinic, Nebraska 68333-0008, USA.', 'Institute for Research in Molecular Medicine (INFORMM), Universiti Sains Malaysia, 11800 Penang, Malaysia.', 'Nephrology Unit, Department of Medicine, Faculty of Medicine, Thammasat University (Rangsit Campus), Khlong Nueng, Khlong Luang, Pathum Thani 12121, Thailand.', 'Stem Cell and Tissue Engineering Department, Research Center for Science and Technology in Medicine (RCSTiM), Tehran University of Medical Sciences, Tehran, Iran.', 'Department of Biology, Pamukkale University, Kinikli Campus, 20070 Denizli, Turkey.', 'Department of Maxillofacial Tissue Regeneration and Research Center for Tooth & Periodontal Regeneration, School of Dentistry, Kyung Hee University, 1 Heogi-dong, Dongdaemun-gu, Seoul 130-701, Republic of Korea.', 'Department of Surgery, Faculty of Medicine, School of Medicine, Kaohsiung Medical University, Kaohsiung, Taiwan ; Department of Neurosurgery, Kaohsiung Medical University Hospital, No. 100, Tzyou 1st Road, Kaohsiung 80752, Taiwan ; Department of Surgery, Kaohsiung Municipal Ta Tung Hospital, Kaohsiung, Taiwan.', 'Departamento de InfectÃ³mica y PatogÃ©nesis Molecular, Centro de InvestigaciÃ³n y de Estudios Avanzados del IPN (CINVESTAV-IPN), 07360 MÃ©xico, DF, Mexico.', 'Zhang Zhongjing College of Chinese Medicine, Nanyang Institute of Technology, China.', 'Department of Pathophysiology, School of Pharmacy and Biochemistry, University of Buenos Aires, INFIBIOC-CONICET, Argentina ; CÃ¡tedra de FisiopatologÃ\\xada, Facultad de Farmacia y BioquÃ\\xadmica, UBA, JunÃ\\xadn 956, Piso 5, 1113 Buenos Aires, Argentina.', 'Institute of Medicine, Chung Shan Medical University, No. 110, Section 1, Jianguo N. Road, Taichung 402, Taiwan.', 'School of Medicine, Chung Shan Medical University, 110 Chien-Kuo N. Road, Section 1, Taichung 402, Taiwan ; Department of Emergency Medicine, Chung Shan Medical University, 110 Chien-Kuo N. Road, Section 1, Taichung 402, Taiwan ; Department of Emergency Medicine, Chung Shan Medical University Hospital, 110 Chien-Kuo N. Road, Section 1, Taichung 402, Taiwan.', 'School of Pharmacy, China Medical University, 91 Hsueh-Shih Road, Taichung 404, Taiwan.', 'School of Dentistry, Chung Shan Medical University, Taichung 40201, Taiwan ; Department of Dentistry, Chung Shan Medical University Hospital, Taichung 40201, Taiwan.', 'Department of Neurosurgery, Taichung Veterans General Hospital, Taichung 40705, Taiwan ; Department of Physical Therapy, Hung Kuang University, Taichung 43302, Taiwan ; Department of Medicine, National Defense Medical Center, Taipei 114, Taiwan ; Tri-Service General Hospital, National Defense Medical Center, Taipei 114, Taiwan.', 'Department of Pharmacology, Guangdong Medical College, Dongguan 523-808, China ; Department of Smart Food and Drugs, Graduate School, Inje University, Gimhae 621-749, Republic of Korea.', 'Faculty of Pharmacy, Universiti Teknologi MARA, Puncak Alam Campus, 42300 Bandar Puncak Alam, Selangor, Malaysia.', 'Institute of Andrology, Nanjing University of Chinese Medicine, No. 138 Xianlin Road, Nanjing, Jiangsu 210023, China.', 'Department of Traditional Chinese Medicine, Peking Union Medical College Hospital (PUMCH), Peking Union Medical College (PUMC), Chinese Academy of Medical Sciences, Beijing 100730, China.', 'Department of Oncology, Faculty of Medicine, McGill University, Lady Davis Institute-Segal Cancer Center from the Jewish General Hospital, Montreal, Quebec, Canada.', 'Cancer Research Laboratory, Fudan University Shanghai Cancer Center, Shanghai, China. yanggong@fudan.edu.cn', 'Department of Human and Molecular Genetics, Virginia Commonwealth University School of Medicine, Richmond, VA.', 'Department of Biochemistry and Molecular Biophysics, Biochemistry and Molecular and Cellular Biology Graduate Program, University of Arizona, Tucson, AZ, USA.', 'Department of Experimental and Clinical Medicine, UniversitÃ\\xa0 Politecnica delle Marche, Via Tronto 10/a, Ancona, 60020, Italy.', \"Department of Radiation Oncology, Nanfang Hospital, Southern Medical University, Guangzhou, Guangdong Province, People's Republic of China.\", 'Department of Clinical and Experimental Medicine, General Pathology and Immunology Section, University of Perugia, Perugia, Italy. erosati@unipg.it', 'Department of Veterinary Physiology and Pharmacology, Texas A&M University, College Station, TX 77843-4466, USA.', 'Department of Urology, The Third Affiliated Hospital, Sun Yat-sen University, Guangzhou 510630, China.', 'Pathology Department, SUNY Upstate Medical University, Syracuse, NY 13210, USA.', 'National Centre for Marine Conservation & Resource Sustainability, University of Tasmania, Tasmania, Australia. rvangeld@utas.edu.au', 'Department of Microbiology, BIOMERIT Research Centre, BioSciences Institute, National University of Ireland, Cork, Ireland.', 'UMR 7242, UniversitÃ© de Strasbourg-CNRS, ESBS, Blvd SÃ©bastien Brant, F-67413 Illkirch, Strasbourg, France.', 'Department of Nutrition, I-Shou University, Jiaosu Village, Yanchao District, Kaohsiung 82445, Taiwan.', 'Divisiont of Urology, Kobe University Graduate School of Medicine, Japan. hara@med.kobe-u.ac.jp', 'School of Human Science and Environment, University of Hyogo, Himeji, Japan. kitamoto@shse.u-hyogo.ac.jp', 'Indian Veterinary Research Institute, Bangalore-560024, Karnataka, India.', 'State Key Laboratory of Bioreactor Engineering, East China University of Science and Technology, Shanghai, China.', 'UMR7156 GÃ©nÃ©tique MolÃ©culaire, GÃ©nomique et Microbiologie, CNRS UniversitÃ© de Strasbourg, 28 rue Goethe, 67000 Strasbourg, France.', \"Institute for Global Food Security, School of Biological Sciences, Medical Biology Centre, Queen's University Belfast, 97 Lisburn Road, Belfast BT9 7BL, UK.\", '', 'Department of Oncology, Johns Hopkins University School of Medicine and the Sidney Kimmel Comprehensive Cancer Center at Johns Hopkins, Baltimore MD 21231, USA.', 'Academic Unit of Clinical Oncology, University of Sheffield, Medical School, Beech Hill Road, Sheffield, S10 2RX, UK.', '', 'National Institute of Biomedical Genomics, 2nd Floor Netaji Subash Sanatorium, Kalyani 741251, India.', '', '', '', '', 'Laboratory of Pharmacology, Department of Medicine, Surgery and Dentistry, University of Milan, Polo H. San Paolo, Milan, Italy.', 'Department of Thoracic Medicine and Lung Research Laboratory, Royal Adelaide Hospital and Hanson Institute, Adelaide, South Australia 5000, Australia.', 'Department of Life Science, National Taiwan Normal University, Taipei, Taiwan. biofv033@scc.ntnu.edu.tw', 'Department of Pathology, First Affiliated Hospital and College of Basic Medical Sciences of China Medical University, Shenyang 110001, China.', 'Department of Internal Medicine, Faculty of Medicine, Saga University, 5-1-1 Nabeshima, Saga 849-8501, Japan.', 'Medical Biology Department, School of Medicine, Pamukkale University, Kinikli, Denizli, Turkey. hakanakca@yahoo.com', 'Department of Cancer and Thoracic Surgery, Graduate School of Medicine, Dentistry and Pharmaceutical Sciences, Okayama University, 2-5-1 Shikata-cho, Kita-ku, Okayama 700-8558, Japan.', 'Department of Neurology, Wayne State University School of Medicine, 421 East Canfield, 2226 Elliman Building, Detroit, MI 48201, USA. skundric@cmb.biosci.wayne.edu', \"INSERM U 427, FacultÃ© des Sciences Pharmaceutiques et Biologiques de Paris, UniversitÃ© RenÃ© Descartes, Paris V, 4 avenue de l'Observatoire, 75270 Paris Cedex 06, France.\", 'Department of Human Anatomy and Histology, University of Bari, Piazza Giulio Cesare 1, Policlinico, I-70124 Bari, Italy. m.sisto@anatomia.uniba.it', 'The Lautenberg Center for General and Tumor Immunology, Hebrew University-Hadassah Medical School, Jerusalem 91120, Israel.', 'Section of Endocrinology, Department of Internal Medicine, Yale School of Medicine, New Haven, CT 06520, USA.', 'The Zabludowicz Center for Autoimmune Diseases, Sheba Medical Center, Affiliated to Sackler Faculty of Medicine, Tel-Aviv University, Israel.', 'Department of Biology, Faculty of Arts & Sciences, American University of Beirut, Beirut, Lebanon. sawkreyd@aub.edu.lb', 'Laboratory of Virology and Immunology, Institute of Preventive Veterinary Medicine, College of Animal Sciences, Zhejiang University, 268 Kaixuan Road, Hangzhou, Zhejiang Province 310029, PR China. jyzhou@zju.edu.cn', 'Department of Biology, Faculty of Arts and Sciences, American University of Beirut, Beirut, Lebanon.', 'Department of Oral and Maxillofacial Pathology, College of Dentistry, Wonkwang University, Iksan, Republic of Korea.', 'Instituto de FisiologÃ\\xada Experimental, Consejo Nacional de Investigaciones CientÃ\\xadficas y TÃ©cnicas (CONICET), Facultad de Ciencias BioquÃ\\xadmicas y FarmacÃ©uticas, Universidad Nacional de Rosario, Suipacha 570, 2000 Rosario, Argentina.', 'Department of Experimental Medicine, Section of Microbiology and Clinical Microbiology, Faculty of Medicine, Second University of Naples, Naples, Italy.', 'Department of Biology, Faculty of Arts and Sciences, American University of Beirut, Beirut, Lebanon. sawkreyd@aub.edu.lb', 'Laboratory of Veterinary Internal Medicine, Department of Veterinary Medicine, College of Veterinary Medicine and Research Institute of Veterinary Medicine, Chungbuk National University, Cheongju, Chungbuk 361-763, Republic of Korea.', 'Department of Medical Research, Chi-Mei Medical Center, Tainan, Taiwan.', 'Department of Cytokinetics, Institute of Biophysics, Academy of Sciences of the Czech Republic, v.v.i., KrÃ¡lovopolskÃ¡ 135, CZ-612 65 Brno, Czech Republic.', 'Division of Endocrinology and Metabolism, Department of Internal Medicine, Hyogo College of Medicine, Mukogawa-cho 1-1, Nishinomiya, Hyogo 663-8501, Japan.', 'Department of Nephrology, The First Affiliated Hospital, Sun Yat-sen University, Guangzhou 510080, Guangdong, PR China.', 'Department of Biochemistry and Molecular Biology, University of Texas Medical Branch, Galveston, TX 77555, USA.', 'Department of Pharmacology, School of Pharmacy, Hoshi University, 2-4-41 Ebara, Shinagawa-ku, Tokyo 142-8501, Japan.', 'Center of Excellence in Sickle Cell Disease and Division of Hematology/Oncology, 88 East Newton St., Boston, MA 02118, USA. ssafaya@bu.edu', 'Department of Hematology and Oncology, The First Hospital, Jilin University, 71 Xinmin Street, Changchun 130021, China.', 'Department of Biology, American University of Beirut, Lebanon.', 'Department of Craniofacial Biology and the Center for Oral Health Research, Medical University of South Carolina, SC 29425, United States.', 'Department of Internal Medicine I, Regensburg University Hospital, D-93042 Regensburg, Germany.', 'Department of Gastroenterology, Ruijin Hospital, Shanghai Jiaotong University School of Medicine, Shanghai 200025, China. chenping714@yahoo.com.cn', 'Institue of Biomedical Engineering, West China School of Preclinical and Forensic Medicine, Sichuan University, China.', \"Department of Immunology, Medical College of Chinese People's Armed Police Forces, Tianjin, People's Republic of China. wy68wy68@yahoo.com.cn\", 'Department of Pathophysiology, Capital Medical University, Beijing 100069, China.', 'Department of Medicine, University of Vermont College of Medicine, Burlington, VT 05405, USA.', 'Department of Preventive and Social Dentistry, School of Dentistry, Institute of Oral Biology, Kyung Hee University, Seoul, Republic of Korea.', 'Department of Neurology, University of Michigan, Ann Arbor, MI, USA; VA Ann Arbor Healthcare System, Ann Arbor, MI, USA.', 'Department of Genetic Engineering, College of Natural Science and Engineering, Cheongju University, Chungbuk 360-764, Republic of Korea. parkks@cju.ac.kr', 'Department of Orthopedic Surgery, Xinhua Hospital, Shanghai Jiaotong University School of Medicine, Shanghai 200092, China.', 'Department of Pathology, Yale University School of Medicine, New Haven, CT 06520, USA.', 'Department of Biochemistry and Molecular Biology and the Massey Cancer Center, Virginia Commonwealth University School of Medicine, Richmond, VA 23298, USA.', 'Institute of Neurological Sciences and Psychiatry, Hacettepe University, Ankara, Turkey.', 'Department of Genetics, Osaka University Medical School, Suita, Japan.', 'The Johns Hopkins Oncology Center, Program in Human Genetics, The Johns Hopkins University School of Medicine, Baltimore, Maryland 21231, USA.', 'Department of Bioengineering, University of California, Berkeley, California 94720, USA.', 'Department of Cancer Biology, Dana-Farber Cancer Institute, Boston, Massachusetts 02115, USA.', 'School of Biosciences, University of Birmingham, Edgbaston, Birmingham B15 2TT, UK.', '1] INSERM, U895 (Ã©quipe 1), Equipe labÃ©lisÃ©e Ligue Contre le Cancer, C3M, 06204 Nice, France [2] UniversitÃ© of Nice Sophia-Antipolis, UFR MÃ©decine, 06204 Nice, France [3] Centre Hospitalier Universitaire de Nice, Service de Dermatologie, 06204 Nice, France [4].', '1] National Key Laboratory for Crop Genetics and Germplasm Enhancement, Jiangsu Plant Gene Engineering Research Center, Nanjing Agricultural University, Nanjing 210095, China [2] National Key Facility for Crop Gene Resources and Genetic Improvement, Institute of Crop Science, Chinese Academy of Agricultural Sciences, Beijing 100081, China.', 'Laboratory of Tumor Biology, Angiogenesis and Nanomedicine Research, National Center for Cell Science, Pune, India.', 'Department of Pediatrics and Molecular and Cellular Oncology, The University of Texas M. D. Anderson Cancer Center, Houston, TX 77030, USA.', '1] Priority Research Centre for Cancer Research, University of Newcastle, Callaghan, NSW, Australia [2] School of Medicine and Public Health, University of Newcastle, Callaghan, NSW, Australia.', \"State Key Laboratory of Cancer Biology and Xijing Hospital of Digestive Diseases, The Fourth Military Medical University, Xi'an, Shaanxi, People's Republic of China.\", '1] Institute of Bioinformatics and Biosignal Transduction, College of Bioscience and Biotechnology, National Cheng-Kung University, Tainan, Taiwan [2] Center for Infection Disease and Signal Transduction, National Cheng-Kung University, Tainan, Taiwan.', 'Institut National de la SantÃ© et de la Recherche MÃ©dicale, U1004, F-94807 Villejuif, France.', 'Department of Surgery, Gastroenterological Surgery, Osaka University, Suita, Osaka, Japan. hyamamoto@gesurg.med.osaka-u.ac.jp', 'Department of Orthopedic Surgery, Xinhua Hospital, Shanghai Jiaotong University, School of Medicine, Shanghai 200092, PR China.', 'Department of Internal Medicine, Korea University College of Medicine, Seoul, Republic of Korea.', 'Second Department of Internal Medicine, Tottori University School                     of Medicine, Tottori 683-8504, Japan.', 'Department of Veterinary Medicine, School of Veterinary Medicine,                     National Taiwan University, Taipei, Taiwan, R.O.C.', 'Department of Minimally Invasive Surgery, The First Affiliated                     Hospital of Nanjing Medical University, Nanjing 210029, P.R. China.', 'Department of Oral and Maxillofacial Surgery, Hyogo College of                     Medicine, Nishinomiya, Hyogo 663-8501, Japan.', 'Osteoncology Center, IRCCS Istituto Scientifico Romagnolo per lo Studio e la Cura dei Tumori (I.R.S.T.), I-47014 Meldola (FC), Italy. t.ibrahim@irst.emr.it', 'Breast Disease Center, Southwest Hospital, Third Military Medical University, Chongqing, P.R. China.', 'Department of Gastroenterology, Hepatology and Endocrinology, Hannover Medical School, Carl Neuberg Strasse 1, 30625 Hannover, Germany.', 'Rosalind and Morris Goodman Cancer Research Centre, Department of Oncology, McGill University, Montreal H3A 1A3, Canada. luke.mccaffrey@mcgill.ca', 'McArdle Laboratory for Cancer Research, University of Wisconsin-Madison, Madison, WI 53706, USA.', 'E2C and LGCR-SDI Department, Sanofi Research and Development, 31100 Toulouse, France.', 'Rutgers Cancer Institute of New Jersey, Rutgers, The State University of New Jersey, 195 Little Albany Street, New Brunswick, NJÂ\\xa008903,Â\\xa0USA; Department of Pharmacology, Robert Wood Johnson Medical School, Rutgers, The State University of New Jersey, 675 Hoes Lane, Piscataway, NJ 08854, USA.', \"Department of Pathology and Molecular Medicine, Queen's University, Kingston, ON, Canada K7L 3N6.\", 'Department of Genetics, Cancer Research United Kingdom Cell Cycle Genetics Research Group,  University of Cambridge, Cambridge CB2 3EH,  United Kingdom.', 'Departments of Molecular Biology, The Scripps Research Institute, La Jolla, CA 92037, USA.', 'Section on Integrative Physiology and Metabolism, Joslin Diabetes Center, Harvard Medical School, Boston, MA 02215, USA.', 'Division of Nephrology and Center for Lung Biology, Department of Medicine and Pathology, University of Washington, Seattle, WA 98109, USA.', 'School of Life Sciences, Tsinghua University, Beijing 100084, China.']\n"
          ]
        }
      ]
    },
    {
      "cell_type": "code",
      "source": [
        "# randomly generate 500 affiliations from list of affiliations\n",
        "#random_affiliation = random.choices(list_of_affiliations)\n",
        "\n",
        "random_affiliations = []\n",
        "number_of_affiliations = 1\n",
        "for i in range(number_of_affiliations):\n",
        "  random_affiliations.append(random.choices(list_of_affiliations))\n",
        "print(random_affiliations) # UNCOMMENT TO SEE LIST \n",
        "\n",
        "# convert list to dataframe to check there are 500 random affiliations\n",
        "# df_random_affiliations = pd.DataFrame (random_affiliations, columns = ['affiliations'])\n",
        "# print(df_random_affiliations) # UNCOMMENT TO SEE DF"
      ],
      "metadata": {
        "colab": {
          "base_uri": "https://localhost:8080/"
        },
        "id": "zsA0A8n8n8jB",
        "outputId": "59ef196c-1d0c-4f22-80a8-a64f24060dda"
      },
      "execution_count": null,
      "outputs": [
        {
          "output_type": "stream",
          "name": "stdout",
          "text": [
            "[['']]\n"
          ]
        }
      ]
    },
    {
      "cell_type": "code",
      "source": [
        "# RUN PREVIOUS BLOCK OF CODE FIRST (EVERY TIME!)\n",
        "# make dictionary with list of pdf authors as keys and list of random affiliations as values\n",
        "dict_of_lists = {}\n",
        "for key in pdf_authors:\n",
        "    for value in random_affiliations:\n",
        "        dict_of_lists[key] = value\n",
        "        random_affiliations.remove(value)\n",
        "        break\n",
        "\n",
        "# convert dictionary to dataframe\n",
        "df = pd.DataFrame([[key, value] for key, values in dict_of_lists.items() for value in values], columns=['Author', 'Affiliation'])\n",
        "print(df)"
      ],
      "metadata": {
        "colab": {
          "base_uri": "https://localhost:8080/"
        },
        "id": "qiwkTDFgtnza",
        "outputId": "64523e51-f7da-476f-eb8e-2d62e8c7ed94"
      },
      "execution_count": null,
      "outputs": [
        {
          "output_type": "stream",
          "name": "stdout",
          "text": [
            "                  Author                                        Affiliation\n",
            "0       Carol W. Boehmer  Department of Internal Medicine, Faculty of Me...\n",
            "1    Debbie R. Clevenger  Department of Comparative Physiology, Uppsala ...\n",
            "2           Billy M. Lee  Department of Preventive and Social Dentistry,...\n",
            "3         Larry C. Clark  State Key Laboratory of Cancer Biology and Xij...\n",
            "4       Jason A. Johnson  Department of Neurology, The Agnes Ginges Cent...\n",
            "..                   ...                                                ...\n",
            "495      Ruby B. Ferrell  Department of Molecular and Human Genetics, Ba...\n",
            "496       Mary R. Tengan  CNRS UMR 5203, INSERM U661, and Montpellier 1 ...\n",
            "497      Kelli J. Gidney                                                   \n",
            "498     Kathleen T. Ogle  Department of Pharmacology, Guangdong Medical ...\n",
            "499   Emmaline J. Haight  Department of Craniofacial Biology and the Cen...\n",
            "\n",
            "[500 rows x 2 columns]\n"
          ]
        }
      ]
    },
    {
      "cell_type": "code",
      "source": [
        "df.to_csv('/content/fake_authors.csv')"
      ],
      "metadata": {
        "id": "_9Q1HR9EIQDo"
      },
      "execution_count": null,
      "outputs": []
    }
  ]
}