{
  "nbformat": 4,
  "nbformat_minor": 0,
  "metadata": {
    "colab": {
      "provenance": []
    },
    "kernelspec": {
      "name": "python3",
      "display_name": "Python 3"
    },
    "language_info": {
      "name": "python"
    }
  },
  "cells": [
    {
      "cell_type": "code",
      "execution_count": null,
      "metadata": {
        "colab": {
          "base_uri": "https://localhost:8080/"
        },
        "id": "U4KinIU12tFL",
        "outputId": "96a6ba17-9842-4a2c-ac0d-79e8dca71903"
      },
      "outputs": [
        {
          "output_type": "stream",
          "name": "stdout",
          "text": [
            "Requirement already satisfied: pylatex in /usr/local/lib/python3.7/dist-packages (1.4.1)\n",
            "Requirement already satisfied: ordered-set in /usr/local/lib/python3.7/dist-packages (from pylatex) (4.1.0)\n"
          ]
        }
      ],
      "source": [
        "pip install pylatex"
      ]
    },
    {
      "cell_type": "code",
      "source": [
        "pip install "
      ],
      "metadata": {
        "colab": {
          "base_uri": "https://localhost:8080/"
        },
        "id": "Q2uh5fWq8stQ",
        "outputId": "6bef5c5b-3328-4c50-b5dc-de8bb3ff8e4f"
      },
      "execution_count": null,
      "outputs": [
        {
          "output_type": "stream",
          "name": "stdout",
          "text": [
            "Requirement already satisfied: pylatex in /usr/local/lib/python3.7/dist-packages (1.4.1)\n",
            "Requirement already satisfied: ordered-set in /usr/local/lib/python3.7/dist-packages (from pylatex) (4.1.0)\n"
          ]
        }
      ]
    },
    {
      "cell_type": "code",
      "source": [
        "from pylatex import Document, Section, Subsection, Tabular, Math, TikZ, Axis, \\\n",
        "    Plot, Figure, Matrix, Alignat\n",
        "import os\n",
        "#import pdflatex"
      ],
      "metadata": {
        "id": "Olbb76qT5gxl"
      },
      "execution_count": null,
      "outputs": []
    },
    {
      "cell_type": "code",
      "source": [
        "!sudo apt install cm-super dvipng texlive-latex-extra texlive-latex-recommended"
      ],
      "metadata": {
        "colab": {
          "base_uri": "https://localhost:8080/"
        },
        "id": "LLGUVRHx6L41",
        "outputId": "df2de8a9-e81c-4a76-a616-74499d6963e6"
      },
      "execution_count": null,
      "outputs": [
        {
          "output_type": "stream",
          "name": "stdout",
          "text": [
            "Reading package lists... Done\n",
            "Building dependency tree       \n",
            "Reading state information... Done\n",
            "texlive-latex-recommended is already the newest version (2017.20180305-1).\n",
            "cm-super is already the newest version (0.3.4-11).\n",
            "dvipng is already the newest version (1.15-1).\n",
            "texlive-latex-extra is already the newest version (2017.20180305-2).\n",
            "0 upgraded, 0 newly installed, 0 to remove and 39 not upgraded.\n"
          ]
        }
      ]
    },
    {
      "cell_type": "code",
      "source": [
        "#get downloaded images from Google drive\n",
        "from google.colab import drive\n",
        "drive.mount('/content/drive')"
      ],
      "metadata": {
        "colab": {
          "base_uri": "https://localhost:8080/"
        },
        "id": "7XhJ9bvpoFYo",
        "outputId": "97b63264-a092-42e0-d409-dc47ae04a768"
      },
      "execution_count": null,
      "outputs": [
        {
          "output_type": "stream",
          "name": "stdout",
          "text": [
            "Drive already mounted at /content/drive; to attempt to forcibly remount, call drive.mount(\"/content/drive\", force_remount=True).\n"
          ]
        }
      ]
    },
    {
      "cell_type": "code",
      "source": [
        "import pandas as pd"
      ],
      "metadata": {
        "id": "JqI5StQTEegk"
      },
      "execution_count": null,
      "outputs": []
    },
    {
      "cell_type": "code",
      "source": [
        "#get authors for fake texts\n",
        "auhtors_and_afffil=pd.read_csv(\"/content/drive/MyDrive/DSCI 550 Team Project/Assignment 2/fake_authors.csv\")\n",
        "\n",
        "fake_authors=auhtors_and_afffil['Author'].tolist()\n",
        "fake_affil=auhtors_and_afffil['Affiliation'].tolist()"
      ],
      "metadata": {
        "id": "rNP8_BJwjVGv"
      },
      "execution_count": null,
      "outputs": []
    },
    {
      "cell_type": "code",
      "source": [
        "#get fake texts\n",
        "texts=pd.read_csv(\"/content/drive/MyDrive/DSCI 550 Team Project/Assignment 2/500_texts.txt\",sep='\\t',nrows=500)\n",
        "text_list=texts['texts'].tolist()"
      ],
      "metadata": {
        "id": "gnkDzsCiEg7j"
      },
      "execution_count": null,
      "outputs": []
    },
    {
      "cell_type": "code",
      "source": [
        "#get titles\n",
        "df = pd.read_csv(\"/content/drive/MyDrive/DSCI 550 Team Project/Assignment 2/Final_bik_dataset_V2.tsv\", sep='\\t',encoding = \"ISO-8859-1\", nrows=714)\n",
        "fake_titles=df['Title'].tolist()[214:]"
      ],
      "metadata": {
        "id": "CX_QaJiimtbh"
      },
      "execution_count": null,
      "outputs": []
    },
    {
      "cell_type": "code",
      "source": [
        "df_captions = pd.read_csv(\"/content/drive/MyDrive/DSCI 550 Team Project/Assignment 2/final_fake_captions.csv\", header=None)\n",
        "df_captions.columns = ['index', 'captions']\n",
        "fake_captions_500 = df_captions['captions'].to_list()"
      ],
      "metadata": {
        "id": "tx4Kd8S2Cu-k"
      },
      "execution_count": null,
      "outputs": []
    },
    {
      "cell_type": "code",
      "source": [
        "len(fake_captions_500)"
      ],
      "metadata": {
        "colab": {
          "base_uri": "https://localhost:8080/"
        },
        "id": "QJlMhGDfFDeW",
        "outputId": "33bad33b-3bd7-4a99-bfb9-474655328b03"
      },
      "execution_count": null,
      "outputs": [
        {
          "output_type": "execute_result",
          "data": {
            "text/plain": [
              "501"
            ]
          },
          "metadata": {},
          "execution_count": 12
        }
      ]
    },
    {
      "cell_type": "code",
      "source": [
        "#generate articles\n",
        "\n",
        "for index in range(2,5):\n",
        "  geometry_options = {\"tmargin\": \"1cm\", \"lmargin\": \"10cm\"}\n",
        "  doc = Document(geometry_options=geometry_options)\n",
        "  image_filename = os.path.join(\"/content/drive/MyDrive/DSCI 550 Team Project/Assignment 2/500_images\", 'samples_5_'+str(index)+'.png')\n",
        "\n",
        "  with doc.create(Section(fake_titles[index])):\n",
        "    doc.append(fake_authors[index])\n",
        "    doc.append('Affiliation: '+fake_affil[index])\n",
        "    with doc.create(Figure(position='h!')) as fake_image:\n",
        "      fake_image.add_image(image_filename, width='120px')\n",
        "      fake_image.add_caption(fake_captions_500[index])\n",
        "    doc.append(text_list[index])\n",
        "\n",
        "  doc.generate_pdf('fake_article'+str(index))\n"
      ],
      "metadata": {
        "id": "RJ3uESpV3iiB",
        "colab": {
          "base_uri": "https://localhost:8080/",
          "height": 1000
        },
        "outputId": "c189e3aa-f0d7-4011-ae3a-02d9a4d048a3"
      },
      "execution_count": null,
      "outputs": [
        {
          "output_type": "stream",
          "name": "stdout",
          "text": [
            "This is pdfTeX, Version 3.14159265-2.6-1.40.18 (TeX Live 2017/Debian) (preloaded format=pdflatex)\n",
            " restricted \\write18 enabled.\n",
            "entering extended mode\n",
            "(/content/fake_article2.tex\n",
            "LaTeX2e <2017-04-15>\n",
            "Babel <3.18> and hyphenation patterns for 3 language(s) loaded.\n",
            "(/usr/share/texlive/texmf-dist/tex/latex/base/article.cls\n",
            "Document Class: article 2014/09/29 v1.4h Standard LaTeX document class\n",
            "(/usr/share/texlive/texmf-dist/tex/latex/base/size10.clo))\n",
            "(/usr/share/texlive/texmf-dist/tex/latex/base/fontenc.sty\n",
            "(/usr/share/texlive/texmf-dist/tex/latex/base/t1enc.def))\n",
            "(/usr/share/texlive/texmf-dist/tex/latex/base/inputenc.sty\n",
            "(/usr/share/texlive/texmf-dist/tex/latex/base/utf8.def\n",
            "(/usr/share/texlive/texmf-dist/tex/latex/base/t1enc.dfu)\n",
            "(/usr/share/texlive/texmf-dist/tex/latex/base/ot1enc.dfu)\n",
            "(/usr/share/texlive/texmf-dist/tex/latex/base/omsenc.dfu)))\n",
            "(/usr/share/texmf/tex/latex/lm/lmodern.sty)\n",
            "(/usr/share/texlive/texmf-dist/tex/latex/base/textcomp.sty\n",
            "(/usr/share/texlive/texmf-dist/tex/latex/base/ts1enc.def\n",
            "(/usr/share/texlive/texmf-dist/tex/latex/base/ts1enc.dfu)))\n",
            "(/usr/share/texlive/texmf-dist/tex/latex/lastpage/lastpage.sty)\n",
            "(/usr/share/texlive/texmf-dist/tex/latex/geometry/geometry.sty\n",
            "(/usr/share/texlive/texmf-dist/tex/latex/graphics/keyval.sty)\n",
            "(/usr/share/texlive/texmf-dist/tex/generic/oberdiek/ifpdf.sty)\n",
            "(/usr/share/texlive/texmf-dist/tex/generic/oberdiek/ifvtex.sty)\n",
            "(/usr/share/texlive/texmf-dist/tex/generic/ifxetex/ifxetex.sty))\n",
            "(/usr/share/texlive/texmf-dist/tex/latex/graphics/graphicx.sty\n",
            "(/usr/share/texlive/texmf-dist/tex/latex/graphics/graphics.sty\n",
            "(/usr/share/texlive/texmf-dist/tex/latex/graphics/trig.sty)\n",
            "(/usr/share/texlive/texmf-dist/tex/latex/graphics-cfg/graphics.cfg)\n",
            "(/usr/share/texlive/texmf-dist/tex/latex/graphics-def/pdftex.def)))\n",
            "No file fake_article2.aux.\n",
            "(/usr/share/texlive/texmf-dist/tex/latex/base/ts1cmr.fd)\n",
            "(/usr/share/texmf/tex/latex/lm/t1lmr.fd)\n",
            "*geometry* driver: auto-detecting\n",
            "*geometry* detected driver: pdftex\n",
            "(/usr/share/texlive/texmf-dist/tex/context/base/mkii/supp-pdf.mkii\n",
            "[Loading MPS to PDF converter (version 2006.09.02).]\n",
            ") (/usr/share/texlive/texmf-dist/tex/latex/oberdiek/epstopdf-base.sty\n",
            "(/usr/share/texlive/texmf-dist/tex/generic/oberdiek/infwarerr.sty)\n",
            "(/usr/share/texlive/texmf-dist/tex/latex/oberdiek/grfext.sty\n",
            "(/usr/share/texlive/texmf-dist/tex/generic/oberdiek/kvdefinekeys.sty\n",
            "(/usr/share/texlive/texmf-dist/tex/generic/oberdiek/ltxcmds.sty)))\n",
            "(/usr/share/texlive/texmf-dist/tex/latex/oberdiek/kvoptions.sty\n",
            "(/usr/share/texlive/texmf-dist/tex/generic/oberdiek/kvsetkeys.sty\n",
            "(/usr/share/texlive/texmf-dist/tex/generic/oberdiek/etexcmds.sty\n",
            "(/usr/share/texlive/texmf-dist/tex/generic/oberdiek/ifluatex.sty))))\n",
            "(/usr/share/texlive/texmf-dist/tex/generic/oberdiek/pdftexcmds.sty)\n",
            "(/usr/share/texlive/texmf-dist/tex/latex/latexconfig/epstopdf-sys.cfg))\n",
            "Overfull \\hbox (30.60793pt too wide) in paragraph at lines 15--15\n",
            "[]\\T1/lmr/bx/n/14.4 LPS Un-mask-ing of Shigella flexneri\n",
            "\n",
            "Overfull \\hbox (9.57982pt too wide) in paragraph at lines 15--15\n",
            "\\T1/lmr/bx/n/14.4 tion of Tagged Outer Mem-brane\n",
            "\n",
            "Overfull \\hbox (8.0978pt too wide) in paragraph at lines 15--15\n",
            "\\T1/lmr/bx/n/14.4 Pro-tease IcsP to Septa and New\n",
            "! Missing $ inserted.\n",
            "<inserted text> \n",
            "                $\n",
            "l.23 ...t/Assignment 2/500_images/samples_5_2.png}\n",
            "                                                  %\n",
            "(/usr/share/texmf/tex/latex/lm/ot1lmr.fd)\n",
            "(/usr/share/texmf/tex/latex/lm/omllmm.fd)\n",
            "(/usr/share/texmf/tex/latex/lm/omslmsy.fd)\n",
            "(/usr/share/texmf/tex/latex/lm/omxlmex.fd)\n",
            "! Double subscript.\n",
            "\\filename@base ->samples_5_\n",
            "                           2\n",
            "l.23 ...t/Assignment 2/500_images/samples_5_2.png}\n",
            "                                                  %\n",
            "\n",
            "LaTeX Warning: File `/content/drive/MyDrive/DSCI 550 Team Project/Assignment 2/\n",
            "500_images/samples_5_2.png' not found on input line 23.\n",
            "\n",
            "! Missing $ inserted.\n",
            "<inserted text> \n",
            "                $\n",
            "l.23 ...t/Assignment 2/500_images/samples_5_2.png}\n",
            "                                                  %\n",
            "\n",
            "Overfull \\hbox (8.91669pt too wide) in paragraph at lines 23--24\n",
            " \\T1/lmr/m/n/10 2/500$[]\\OML/lmm/m/it/10 mages=samples[][]:png[]$ \n",
            "(/usr/share/texmf/tex/latex/lm/ts1lmr.fd)\n",
            "Overfull \\hbox (2.82219pt too wide) in paragraph at lines 28--55\n",
            "\\T1/lmr/m/n/10 has the po-ten-tial to pre-vent in-fec-tion in hu-mans through\n",
            "[1{/var/lib/texmf/fonts/map/pdftex/updmap/pdftex.map} </content/drive/MyDrive/D\n",
            "SCI 550 Team Project/Assignment 2/500_images/samples_5_2.png (PNG copy)>]\n",
            "\n",
            "Package lastpage Warning: Rerun to get the references right on input line 57.\n",
            "\n",
            "\n",
            "AED: lastpage setting LastPage\n",
            "[2] (./fake_article2.aux)\n",
            "\n",
            "LaTeX Warning: Label(s) may have changed. Rerun to get cross-references right.\n",
            "\n",
            " )\n",
            "(see the transcript file for additional information){/usr/share/texmf/fonts/enc\n",
            "/dvips/lm/lm-ts1.enc}{/usr/share/texmf/fonts/enc/dvips/lm/lm-rm.enc}{/usr/share\n",
            "/texmf/fonts/enc/dvips/lm/lm-mathit.enc}{/usr/share/texmf/fonts/enc/dvips/lm/lm\n",
            "-ec.enc}</usr/share/texmf/fonts/type1/public/lm/lmbx12.pfb></usr/share/texmf/fo\n",
            "nts/type1/public/lm/lmmi10.pfb></usr/share/texmf/fonts/type1/public/lm/lmmi7.pf\n",
            "b></usr/share/texmf/fonts/type1/public/lm/lmr10.pfb></usr/share/texmf/fonts/typ\n",
            "e1/public/lm/lmr7.pfb>\n",
            "Output written on fake_article2.pdf (2 pages, 134134 bytes).\n",
            "Transcript written on fake_article2.log.\n",
            "\n"
          ]
        },
        {
          "output_type": "error",
          "ename": "CalledProcessError",
          "evalue": "ignored",
          "traceback": [
            "\u001b[0;31m---------------------------------------------------------------------------\u001b[0m",
            "\u001b[0;31mCalledProcessError\u001b[0m                        Traceback (most recent call last)",
            "\u001b[0;32m<ipython-input-31-465301a5f698>\u001b[0m in \u001b[0;36m<module>\u001b[0;34m()\u001b[0m\n\u001b[1;32m     14\u001b[0m     \u001b[0mdoc\u001b[0m\u001b[0;34m.\u001b[0m\u001b[0mappend\u001b[0m\u001b[0;34m(\u001b[0m\u001b[0mtext_list\u001b[0m\u001b[0;34m[\u001b[0m\u001b[0mindex\u001b[0m\u001b[0;34m]\u001b[0m\u001b[0;34m)\u001b[0m\u001b[0;34m\u001b[0m\u001b[0;34m\u001b[0m\u001b[0m\n\u001b[1;32m     15\u001b[0m \u001b[0;34m\u001b[0m\u001b[0m\n\u001b[0;32m---> 16\u001b[0;31m   \u001b[0mdoc\u001b[0m\u001b[0;34m.\u001b[0m\u001b[0mgenerate_pdf\u001b[0m\u001b[0;34m(\u001b[0m\u001b[0;34m'fake_article'\u001b[0m\u001b[0;34m+\u001b[0m\u001b[0mstr\u001b[0m\u001b[0;34m(\u001b[0m\u001b[0mindex\u001b[0m\u001b[0;34m)\u001b[0m\u001b[0;34m)\u001b[0m\u001b[0;34m\u001b[0m\u001b[0;34m\u001b[0m\u001b[0m\n\u001b[0m",
            "\u001b[0;32m/usr/local/lib/python3.7/dist-packages/pylatex/document.py\u001b[0m in \u001b[0;36mgenerate_pdf\u001b[0;34m(self, filepath, clean, clean_tex, compiler, compiler_args, silent)\u001b[0m\n\u001b[1;32m    250\u001b[0m                 output = subprocess.check_output(command,\n\u001b[1;32m    251\u001b[0m                                                  \u001b[0mstderr\u001b[0m\u001b[0;34m=\u001b[0m\u001b[0msubprocess\u001b[0m\u001b[0;34m.\u001b[0m\u001b[0mSTDOUT\u001b[0m\u001b[0;34m,\u001b[0m\u001b[0;34m\u001b[0m\u001b[0;34m\u001b[0m\u001b[0m\n\u001b[0;32m--> 252\u001b[0;31m                                                  **check_output_kwargs)\n\u001b[0m\u001b[1;32m    253\u001b[0m             \u001b[0;32mexcept\u001b[0m \u001b[0;34m(\u001b[0m\u001b[0mOSError\u001b[0m\u001b[0;34m,\u001b[0m \u001b[0mIOError\u001b[0m\u001b[0;34m)\u001b[0m \u001b[0;32mas\u001b[0m \u001b[0me\u001b[0m\u001b[0;34m:\u001b[0m\u001b[0;34m\u001b[0m\u001b[0;34m\u001b[0m\u001b[0m\n\u001b[1;32m    254\u001b[0m                 \u001b[0;31m# Use FileNotFoundError when python 2 is dropped\u001b[0m\u001b[0;34m\u001b[0m\u001b[0;34m\u001b[0m\u001b[0;34m\u001b[0m\u001b[0m\n",
            "\u001b[0;32m/usr/lib/python3.7/subprocess.py\u001b[0m in \u001b[0;36mcheck_output\u001b[0;34m(timeout, *popenargs, **kwargs)\u001b[0m\n\u001b[1;32m    409\u001b[0m \u001b[0;34m\u001b[0m\u001b[0m\n\u001b[1;32m    410\u001b[0m     return run(*popenargs, stdout=PIPE, timeout=timeout, check=True,\n\u001b[0;32m--> 411\u001b[0;31m                **kwargs).stdout\n\u001b[0m\u001b[1;32m    412\u001b[0m \u001b[0;34m\u001b[0m\u001b[0m\n\u001b[1;32m    413\u001b[0m \u001b[0;34m\u001b[0m\u001b[0m\n",
            "\u001b[0;32m/usr/lib/python3.7/subprocess.py\u001b[0m in \u001b[0;36mrun\u001b[0;34m(input, capture_output, timeout, check, *popenargs, **kwargs)\u001b[0m\n\u001b[1;32m    510\u001b[0m         \u001b[0;32mif\u001b[0m \u001b[0mcheck\u001b[0m \u001b[0;32mand\u001b[0m \u001b[0mretcode\u001b[0m\u001b[0;34m:\u001b[0m\u001b[0;34m\u001b[0m\u001b[0;34m\u001b[0m\u001b[0m\n\u001b[1;32m    511\u001b[0m             raise CalledProcessError(retcode, process.args,\n\u001b[0;32m--> 512\u001b[0;31m                                      output=stdout, stderr=stderr)\n\u001b[0m\u001b[1;32m    513\u001b[0m     \u001b[0;32mreturn\u001b[0m \u001b[0mCompletedProcess\u001b[0m\u001b[0;34m(\u001b[0m\u001b[0mprocess\u001b[0m\u001b[0;34m.\u001b[0m\u001b[0margs\u001b[0m\u001b[0;34m,\u001b[0m \u001b[0mretcode\u001b[0m\u001b[0;34m,\u001b[0m \u001b[0mstdout\u001b[0m\u001b[0;34m,\u001b[0m \u001b[0mstderr\u001b[0m\u001b[0;34m)\u001b[0m\u001b[0;34m\u001b[0m\u001b[0;34m\u001b[0m\u001b[0m\n\u001b[1;32m    514\u001b[0m \u001b[0;34m\u001b[0m\u001b[0m\n",
            "\u001b[0;31mCalledProcessError\u001b[0m: Command '['pdflatex', '--interaction=nonstopmode', '/content/fake_article2.tex']' returned non-zero exit status 1."
          ]
        }
      ]
    },
    {
      "cell_type": "code",
      "source": [
        "!sudo apt-get install texlive-fonts-recommended"
      ],
      "metadata": {
        "colab": {
          "base_uri": "https://localhost:8080/"
        },
        "id": "0qvUVUsjFsR_",
        "outputId": "9b3f62c9-9788-44eb-ae80-b9f5ea6adaec"
      },
      "execution_count": null,
      "outputs": [
        {
          "output_type": "stream",
          "name": "stdout",
          "text": [
            "Reading package lists... Done\n",
            "Building dependency tree       \n",
            "Reading state information... Done\n",
            "texlive-fonts-recommended is already the newest version (2017.20180305-1).\n",
            "0 upgraded, 0 newly installed, 0 to remove and 39 not upgraded.\n"
          ]
        }
      ]
    },
    {
      "cell_type": "code",
      "source": [
        "!sudo apt install texlive-latex-extra"
      ],
      "metadata": {
        "colab": {
          "base_uri": "https://localhost:8080/"
        },
        "id": "LR0H48-EGxnF",
        "outputId": "cf99628e-9583-4cd3-91ca-723522504899"
      },
      "execution_count": null,
      "outputs": [
        {
          "output_type": "stream",
          "name": "stdout",
          "text": [
            "Reading package lists... Done\n",
            "Building dependency tree       \n",
            "Reading state information... Done\n",
            "texlive-latex-extra is already the newest version (2017.20180305-2).\n",
            "0 upgraded, 0 newly installed, 0 to remove and 39 not upgraded.\n"
          ]
        }
      ]
    },
    {
      "cell_type": "code",
      "source": [
        "!sudo apt-key adv --keyserver hkp://keyserver.ubuntu.com:80 --recv-keys D6BC243565B2087BC3F897C9277A7293F59E4889"
      ],
      "metadata": {
        "colab": {
          "base_uri": "https://localhost:8080/"
        },
        "id": "ykGomQdfG8Ho",
        "outputId": "9e8c9b35-a3ee-4eb4-a85d-aedabb8dd667"
      },
      "execution_count": null,
      "outputs": [
        {
          "output_type": "stream",
          "name": "stdout",
          "text": [
            "Executing: /tmp/apt-key-gpghome.VdhDnLxJNa/gpg.1.sh --keyserver hkp://keyserver.ubuntu.com:80 --recv-keys D6BC243565B2087BC3F897C9277A7293F59E4889\n",
            "gpg: key 277A7293F59E4889: 1 signature not checked due to a missing key\n",
            "gpg: key 277A7293F59E4889: public key \"MiKTeX Packager <packager@miktex.org>\" imported\n",
            "gpg: Total number processed: 1\n",
            "gpg:               imported: 1\n"
          ]
        }
      ]
    },
    {
      "cell_type": "code",
      "source": [
        "!echo \"deb http://miktex.org/download/ubuntu bionic universe\" | sudo tee /etc/apt/sources.list.d/miktex.list"
      ],
      "metadata": {
        "colab": {
          "base_uri": "https://localhost:8080/"
        },
        "id": "T1xgJmPZKA5o",
        "outputId": "58163e36-af6c-4022-a8bb-b46c71bbdd39"
      },
      "execution_count": null,
      "outputs": [
        {
          "output_type": "stream",
          "name": "stdout",
          "text": [
            "deb http://miktex.org/download/ubuntu bionic universe\n"
          ]
        }
      ]
    },
    {
      "cell_type": "code",
      "source": [
        "!sudo apt-get update\n",
        "\n",
        "!sudo apt-get install miktex"
      ],
      "metadata": {
        "colab": {
          "base_uri": "https://localhost:8080/"
        },
        "id": "glZHG58QKGHS",
        "outputId": "6be8a4f8-a62b-482e-f3f0-14e6b2e1a97a"
      },
      "execution_count": null,
      "outputs": [
        {
          "output_type": "stream",
          "name": "stdout",
          "text": [
            "\r0% [Working]\r            \rHit:1 http://archive.ubuntu.com/ubuntu bionic InRelease\n",
            "\r0% [Waiting for headers] [Connected to cloud.r-project.org (108.157.162.43)] [C\r                                                                               \rHit:2 http://security.ubuntu.com/ubuntu bionic-security InRelease\n",
            "\r0% [Waiting for headers] [Connected to cloud.r-project.org (108.157.162.43)] [C\r0% [1 InRelease gpgv 242 kB] [Waiting for headers] [Connected to cloud.r-projec\r                                                                               \rHit:3 http://archive.ubuntu.com/ubuntu bionic-updates InRelease\n",
            "\r0% [1 InRelease gpgv 242 kB] [Waiting for headers] [Connected to cloud.r-projec\r                                                                               \rHit:4 http://archive.ubuntu.com/ubuntu bionic-backports InRelease\n",
            "\r0% [1 InRelease gpgv 242 kB] [Waiting for headers] [Waiting for headers] [Waiti\r                                                                               \rIgn:5 https://developer.download.nvidia.com/compute/cuda/repos/ubuntu1804/x86_64  InRelease\n",
            "Hit:6 https://cloud.r-project.org/bin/linux/ubuntu bionic-cran40/ InRelease\n",
            "Hit:7 http://ppa.launchpad.net/c2d4u.team/c2d4u4.0+/ubuntu bionic InRelease\n",
            "Ign:8 https://developer.download.nvidia.com/compute/machine-learning/repos/ubuntu1804/x86_64  InRelease\n",
            "Hit:10 https://developer.download.nvidia.com/compute/cuda/repos/ubuntu1804/x86_64  Release\n",
            "Hit:11 https://developer.download.nvidia.com/compute/machine-learning/repos/ubuntu1804/x86_64  Release\n",
            "Hit:12 http://ppa.launchpad.net/cran/libgit2/ubuntu bionic InRelease\n",
            "Hit:9 https://ctan.mirrors.hoobly.com/systems/win32/miktex/setup/deb bionic InRelease\n",
            "Hit:13 http://ppa.launchpad.net/deadsnakes/ppa/ubuntu bionic InRelease\n",
            "Hit:14 http://ppa.launchpad.net/graphics-drivers/ppa/ubuntu bionic InRelease\n",
            "Reading package lists... Done\n",
            "Reading package lists... Done\n",
            "Building dependency tree       \n",
            "Reading state information... Done\n",
            "miktex is already the newest version (22.1-bionic1).\n",
            "0 upgraded, 0 newly installed, 0 to remove and 96 not upgraded.\n"
          ]
        }
      ]
    },
    {
      "cell_type": "code",
      "source": [],
      "metadata": {
        "id": "C21TxQAbKK5J"
      },
      "execution_count": null,
      "outputs": []
    }
  ]
}