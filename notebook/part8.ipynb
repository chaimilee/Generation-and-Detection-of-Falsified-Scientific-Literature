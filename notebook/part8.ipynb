{
  "nbformat": 4,
  "nbformat_minor": 0,
  "metadata": {
    "colab": {
      "provenance": []
    },
    "kernelspec": {
      "name": "python3",
      "display_name": "Python 3"
    },
    "language_info": {
      "name": "python"
    }
  },
  "cells": [
    {
      "cell_type": "code",
      "source": [
        "! pip install pylatex\n",
        "# https://stackoverflow.com/questions/55746749/latex-equations-do-not-render-in-google-colaboratory-when-using-matplotlib\n",
        "# !sudo apt install cm-super dvipng texlive-latex-extra texlive-latex-recommended\n",
        "\n",
        "# https://jeltef.github.io/PyLaTeX/current/ \n",
        "\n",
        "# https://www.geeksforgeeks.org/pylatex-module-in-python/\n",
        "\n",
        "# https://mirrors.rit.edu/CTAN/systems/doc/pdftex/manual/pdftex-a.pdf\n",
        "\n",
        "# apprently need to install miktex\n",
        "# For installing MikTeX on your system, go to : https://miktex.org/download\n",
        "\n",
        "\n",
        "# latex inside miktex "
      ],
      "metadata": {
        "colab": {
          "base_uri": "https://localhost:8080/"
        },
        "id": "cfZTbaY81sOD",
        "outputId": "3c69395a-ee82-4c9d-9256-3bd6ae2518cc"
      },
      "execution_count": null,
      "outputs": [
        {
          "output_type": "stream",
          "name": "stdout",
          "text": [
            "Collecting pylatex\n",
            "  Downloading PyLaTeX-1.4.1.tar.gz (84 kB)\n",
            "\u001b[K     |████████████████████████████████| 84 kB 1.9 MB/s \n",
            "\u001b[?25hCollecting ordered-set\n",
            "  Downloading ordered_set-4.1.0-py3-none-any.whl (7.6 kB)\n",
            "Building wheels for collected packages: pylatex\n",
            "  Building wheel for pylatex (setup.py) ... \u001b[?25l\u001b[?25hdone\n",
            "  Created wheel for pylatex: filename=PyLaTeX-1.4.1-py3-none-any.whl size=42815 sha256=5ba0a966bb1c42ec2d0d3c38fbdaeb7dab3089979edde602898dc7a70099c1f1\n",
            "  Stored in directory: /root/.cache/pip/wheels/4c/62/73/7688c83647b2103ef0c1b783730c8dc50fbbc3667eea6b1cb8\n",
            "Successfully built pylatex\n",
            "Installing collected packages: ordered-set, pylatex\n",
            "Successfully installed ordered-set-4.1.0 pylatex-1.4.1\n"
          ]
        }
      ]
    },
    {
      "cell_type": "code",
      "source": [
        "# To create a document import document class from pylatex module. \n",
        "# In latex there are different document types : article, report, letter etc. \n",
        "# To create a document of the type article, create an object of the Document class of latex and as an argument pass ‘article’\n",
        "# ex:\n",
        "# doc=Document(documentclass='article') "
      ],
      "metadata": {
        "id": "L7fQEz0S2Vcf"
      },
      "execution_count": null,
      "outputs": []
    },
    {
      "cell_type": "code",
      "source": [
        "# To generate PDF file of the document, \n",
        "# call the generate_pdf method of the Document class using the object of Document class and make sure to pass the name of the pdf document in its argument\n",
        "\n",
        "# doc.generate_pdf(\"Demo_article\") "
      ],
      "metadata": {
        "id": "kENY80p02knl"
      },
      "execution_count": null,
      "outputs": []
    },
    {
      "cell_type": "code",
      "source": [
        "# if using .generate_pdf, need latexmk or pdfLaTex installed"
      ],
      "metadata": {
        "id": "oLphWa3Sz72W"
      },
      "execution_count": null,
      "outputs": []
    },
    {
      "cell_type": "code",
      "source": [
        "import json\n",
        "import pylatex\n",
        "import csv\n",
        "import subprocess \n",
        "from pylatex import Document, Section, Subsection, Tabular\n",
        "from pylatex import Math, TikZ, Axis, Plot, Figure, Matrix, Alignat\n",
        "from pylatex.utils import italic, bold"
      ],
      "metadata": {
        "id": "MGNNm9dr15ae"
      },
      "execution_count": null,
      "outputs": []
    },
    {
      "cell_type": "code",
      "source": [
        "# necessary to run from terminal?\n",
        "\n",
        "# if __name__ == '__main__': \n",
        "geometry_options = {\"tmargin\": \"1cm\", \"lmargin\": \"10cm\"}\n",
        "doc = Document(geometry_options=geometry_options)\n",
        "\n",
        "with doc.create(Section('The section')):\n",
        "  doc.append('DSCI 550 is such an important class lol NOT')\n",
        "  \n",
        "  with doc.create(Subsection('Table example')):\n",
        "    \n",
        "    with doc.create(Tabular('rc|cl')) as table:\n",
        "      table.add_hline()\n",
        "      table.add_row((1, 2, 3, 4))\n",
        "      table.add_hline(1, 2)\n",
        "      table.add_empty_row()\n",
        "      table.add_row((4, 5, 6, 7))\n",
        "\n",
        "  doc.generate_pdf('test-pdf')\n",
        "\n",
        "## ERROR: no latex complier was found\n",
        "# - specify one? check pylatex docs about compiling"
      ],
      "metadata": {
        "colab": {
          "base_uri": "https://localhost:8080/",
          "height": 356
        },
        "id": "d7x1osqA3K0F",
        "outputId": "f117dbe9-c799-48ed-fe1b-c4f1aa9355a9"
      },
      "execution_count": null,
      "outputs": [
        {
          "output_type": "error",
          "ename": "CompilerError",
          "evalue": "ignored",
          "traceback": [
            "\u001b[0;31m---------------------------------------------------------------------------\u001b[0m",
            "\u001b[0;31mCompilerError\u001b[0m                             Traceback (most recent call last)",
            "\u001b[0;32m<ipython-input-10-5bcb5646d53f>\u001b[0m in \u001b[0;36m<module>\u001b[0;34m()\u001b[0m\n\u001b[1;32m     17\u001b[0m       \u001b[0mtable\u001b[0m\u001b[0;34m.\u001b[0m\u001b[0madd_row\u001b[0m\u001b[0;34m(\u001b[0m\u001b[0;34m(\u001b[0m\u001b[0;36m4\u001b[0m\u001b[0;34m,\u001b[0m \u001b[0;36m5\u001b[0m\u001b[0;34m,\u001b[0m \u001b[0;36m6\u001b[0m\u001b[0;34m,\u001b[0m \u001b[0;36m7\u001b[0m\u001b[0;34m)\u001b[0m\u001b[0;34m)\u001b[0m\u001b[0;34m\u001b[0m\u001b[0;34m\u001b[0m\u001b[0m\n\u001b[1;32m     18\u001b[0m \u001b[0;34m\u001b[0m\u001b[0m\n\u001b[0;32m---> 19\u001b[0;31m   \u001b[0mdoc\u001b[0m\u001b[0;34m.\u001b[0m\u001b[0mgenerate_pdf\u001b[0m\u001b[0;34m(\u001b[0m\u001b[0;34m'test-pdf'\u001b[0m\u001b[0;34m)\u001b[0m\u001b[0;34m\u001b[0m\u001b[0;34m\u001b[0m\u001b[0m\n\u001b[0m\u001b[1;32m     20\u001b[0m \u001b[0;34m\u001b[0m\u001b[0m\n\u001b[1;32m     21\u001b[0m \u001b[0;31m## ERROR: no latex complier was found\u001b[0m\u001b[0;34m\u001b[0m\u001b[0;34m\u001b[0m\u001b[0;34m\u001b[0m\u001b[0m\n",
            "\u001b[0;32m/usr/local/lib/python3.7/dist-packages/pylatex/document.py\u001b[0m in \u001b[0;36mgenerate_pdf\u001b[0;34m(self, filepath, clean, clean_tex, compiler, compiler_args, silent)\u001b[0m\n\u001b[1;32m    297\u001b[0m             \u001b[0;31m# Notify user that none of the compilers worked.\u001b[0m\u001b[0;34m\u001b[0m\u001b[0;34m\u001b[0m\u001b[0;34m\u001b[0m\u001b[0m\n\u001b[1;32m    298\u001b[0m             raise(CompilerError(\n\u001b[0;32m--> 299\u001b[0;31m                 \u001b[0;34m'No LaTex compiler was found\\n'\u001b[0m\u001b[0;34m\u001b[0m\u001b[0;34m\u001b[0m\u001b[0m\n\u001b[0m\u001b[1;32m    300\u001b[0m                 \u001b[0;34m'Either specify a LaTex compiler '\u001b[0m\u001b[0;34m\u001b[0m\u001b[0;34m\u001b[0m\u001b[0m\n\u001b[1;32m    301\u001b[0m                 \u001b[0;34m'or make sure you have latexmk or pdfLaTex installed.'\u001b[0m\u001b[0;34m\u001b[0m\u001b[0;34m\u001b[0m\u001b[0m\n",
            "\u001b[0;31mCompilerError\u001b[0m: No LaTex compiler was found\nEither specify a LaTex compiler or make sure you have latexmk or pdfLaTex installed."
          ]
        }
      ]
    },
    {
      "cell_type": "markdown",
      "source": [
        "# * business card example from stackoverflow:"
      ],
      "metadata": {
        "id": "LOk3Jmkr5f90"
      }
    },
    {
      "cell_type": "code",
      "source": [
        "# cf \"http://stackoverflow.com/questions/19683123/\n",
        "# compile-latex-from-python\" for original example\n",
        "\n",
        "###== Definition of the LaTeX template (with \"blanks\") ==###\n",
        "    # caution : you need to escape backslashs with backslashs\n",
        "    #   blanks are filed with %(Name)s \n",
        "    # Name are here two letters\n",
        "    # 's' means the variable is a string\n",
        "LatexContent = '''\\\\documentclass{scrartcl}\n",
        "                        \\\\usepackage{graphicx}\n",
        "                        \\\\begin{document}\n",
        "                            \\\\includegraphics[width=1cm,height=3cm]{%(Id)s}\n",
        "                            {\\\\sffamily %(Fn)s \\\\textsc{%(Ln)s}}\n",
        "                                \\\\newline\n",
        "                            \\\\section{Phone}\n",
        "                            {\\\\tiny Phone number: %(Ph)s}\n",
        "                                \\\\newpage\n",
        "                            %(Ot)s\n",
        "                   \\\\end{document}'''\n",
        "\n",
        "###== Look at the database ==##\n",
        "# open the database into python\n",
        "my_db_file = open(\"database.csv\",\"rb\")\n",
        "\n",
        "# read the database\n",
        "my_db = csv.reader(my_db_file, delimiter=',',skipinitialspace=True)\n",
        "\n",
        "###== TeX files processing and generating ==###\n",
        "#skip the header of the database\n",
        "my_db.next() \n",
        "\n",
        "#then for each row of the database\n",
        "for row in my_db :\n",
        "        ## Assign the items of the row to the variables that will fill up the \n",
        "        ##    blanks of the LaTeX code\n",
        "        ID = str(row[0])            #caution, first item of a row = index '0'\n",
        "        LastName = str(row[1])\n",
        "        FirstName = str(row[2])\n",
        "        Phone = str(row[3])\n",
        "        Other = str(row[4])\n",
        "\n",
        "            #define the TeX file name\n",
        "        TexFileName = ID + '.tex'\n",
        "\n",
        "        ## create a new LaTeX file with the blanks filled\n",
        "            #create a new file\n",
        "        TexFile = open(TexFileName,'w')\n",
        "\n",
        "            #fill the blanks with the previously read informations\n",
        "        TexFile.write(LatexContent %{\"Id\" : ID, \"Fn\" : FirstName, \n",
        "        \"Ln\" : LastName, \"Ph\" : Phone, \"Ot\" : Other })\n",
        "\n",
        "            #close the file\n",
        "        TexFile.close()\n",
        "\n",
        "        ## compile the file you've just created with LaTeX        \n",
        "        subprocess.Popen(['pdflatex',TexFileName],shell=False)      \n",
        "\n",
        "        ##repeate for each row\n",
        "\n",
        "#close the database file\n",
        "my_db_file.close()"
      ],
      "metadata": {
        "id": "MC49Qfa-yAwG"
      },
      "execution_count": null,
      "outputs": []
    }
  ]
}