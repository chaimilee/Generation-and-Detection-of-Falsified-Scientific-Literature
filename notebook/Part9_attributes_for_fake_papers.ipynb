{
  "nbformat": 4,
  "nbformat_minor": 0,
  "metadata": {
    "colab": {
      "provenance": []
    },
    "kernelspec": {
      "name": "python3",
      "display_name": "Python 3"
    },
    "language_info": {
      "name": "python"
    }
  },
  "cells": [
    {
      "cell_type": "code",
      "execution_count": null,
      "metadata": {
        "id": "x0bTOGxbL_pH"
      },
      "outputs": [],
      "source": [
        "import pandas as pd\n",
        "import random"
      ]
    },
    {
      "cell_type": "code",
      "source": [
        "df = pd.read_csv('/content/Final_bik_dataset.tsv', sep='\\t',encoding = \"ISO-8859-1\", nrows=214)"
      ],
      "metadata": {
        "id": "fcVzWzCLMbAS"
      },
      "execution_count": null,
      "outputs": []
    },
    {
      "cell_type": "code",
      "source": [
        "df_author_and_affil=pd.read_csv('/content/fake_authors.csv')"
      ],
      "metadata": {
        "id": "UtvO6AG7QNth"
      },
      "execution_count": null,
      "outputs": []
    },
    {
      "cell_type": "code",
      "source": [
        "fake_Title=df['Title'].tolist()\n",
        "fake_Citation=df['Citation'].tolist()\n",
        "fake_DOI=df['DOI'].tolist()\n",
        "fake_Year=df['Year'].tolist()\n",
        "fake_Month=df['Month'].tolist()\n",
        "fake_0=df['0'].tolist()\n",
        "fake_1=df['1'].tolist()\n",
        "fake_2=df['2'].tolist()\n",
        "fake_3=df['3'].tolist()\n",
        "fake_FINDINGS=df['FINDINGS'].tolist()\n",
        "fake_Reported=df['Reported'].tolist()\n",
        "fake_Correction_Date=df['Correction Date'].tolist()\n",
        "fake_Retraction=df['Retraction'].tolist()\n",
        "fake_Correction=df['Correction'].tolist()\n",
        "fake_No_Action=df['No Action'].tolist()\n",
        "fake_SUM_Completed=df['SUM  Completed'].tolist()\n",
        "fake_Other_Journals=df['Other Journals'].tolist()\n",
        "fake_Publication_Rate=df['Publication Rate'].tolist()\n",
        "fake_Duration=df['Duration of Career'].tolist()\n",
        "fake_highest_degree=df['highest_degree'].tolist()\n",
        "fake_degree_area=df['degree_area'].tolist()\n",
        "fake_Lab_Size=df['Lab Size'].tolist()\n",
        "fake_Rank=df['Rank'].tolist()\n",
        "fake_Temperature=df['Temperature'].tolist()\n",
        "fake_Anomaly=df['Anomaly'].tolist()\n",
        "fake_County=df['County'].tolist() ##\n",
        "fake_Locale=df['Locale'].tolist() ##\n",
        "fake_State=df['State'].tolist() ##\n",
        "fake_RD_Rank=df['R&D Rank'].tolist()\n",
        "fake_Percentile=df['Percentile'].tolist()\n",
        "fake_RD_Expenditures=df['R&D Expenditures'].tolist()\n",
        "fake_author=df_author_and_affil['Author']\n",
        "fake_affil=df_author_and_affil['Affiliation']"
      ],
      "metadata": {
        "id": "oar4kfyxNJKq"
      },
      "execution_count": null,
      "outputs": []
    },
    {
      "cell_type": "code",
      "source": [
        "#generate titles for 500 papers\n",
        "random_titles = []\n",
        "number_of_titles = 500\n",
        "for i in range(number_of_titles):\n",
        "  random_titles.append(random.choices(fake_Title))"
      ],
      "metadata": {
        "id": "-MUdxuo4Qpfl"
      },
      "execution_count": null,
      "outputs": []
    },
    {
      "cell_type": "code",
      "source": [
        "#generate citation for 500 papers\n",
        "random_citation = []\n",
        "number_of_citation = 500\n",
        "for i in range(number_of_citation):\n",
        "  random_citation.append(random.choices(fake_Citation))"
      ],
      "metadata": {
        "id": "twWkRCbzSLzS"
      },
      "execution_count": null,
      "outputs": []
    },
    {
      "cell_type": "code",
      "source": [
        "random_doi = []\n",
        "number_of_doi = 500\n",
        "for i in range(number_of_doi):\n",
        "  random_doi.append(random.choices(fake_DOI))"
      ],
      "metadata": {
        "id": "y6wUHg-HSgda"
      },
      "execution_count": null,
      "outputs": []
    },
    {
      "cell_type": "code",
      "source": [
        "random_year = []\n",
        "number_of_year = 500\n",
        "for i in range(number_of_year):\n",
        "  random_year.append(random.choices(fake_Year))"
      ],
      "metadata": {
        "id": "JAsgyPoVSg6j"
      },
      "execution_count": null,
      "outputs": []
    },
    {
      "cell_type": "code",
      "source": [
        "random_month = []\n",
        "number_of_papers = 500\n",
        "for i in range(number_of_papers):\n",
        "  random_month.append(random.choices(fake_Month))"
      ],
      "metadata": {
        "id": "WYfY_ENWShTN"
      },
      "execution_count": null,
      "outputs": []
    },
    {
      "cell_type": "code",
      "source": [
        "random_0 = []\n",
        "number_of_papers = 500\n",
        "for i in range(number_of_papers):\n",
        "  random_0.append(random.choices(fake_0))"
      ],
      "metadata": {
        "id": "6rDodjXMWKL6"
      },
      "execution_count": null,
      "outputs": []
    },
    {
      "cell_type": "code",
      "source": [
        "random_1 = []\n",
        "number_of_papers = 500\n",
        "for i in range(number_of_papers):\n",
        "  random_1.append(random.choices(fake_1))"
      ],
      "metadata": {
        "id": "dtXX_9YzWKUo"
      },
      "execution_count": null,
      "outputs": []
    },
    {
      "cell_type": "code",
      "source": [
        "random_2 = []\n",
        "number_of_papers = 500\n",
        "for i in range(number_of_papers):\n",
        "  random_2.append(random.choices(fake_2))"
      ],
      "metadata": {
        "id": "xFIH2i4UWKid"
      },
      "execution_count": null,
      "outputs": []
    },
    {
      "cell_type": "code",
      "source": [
        "random_3 = []\n",
        "number_of_papers = 500\n",
        "for i in range(number_of_papers):\n",
        "  random_3.append(random.choices(fake_3))"
      ],
      "metadata": {
        "id": "sRBT96c4WKv3"
      },
      "execution_count": null,
      "outputs": []
    },
    {
      "cell_type": "code",
      "source": [
        "random_findings = []\n",
        "number_of_papers = 500\n",
        "for i in range(number_of_papers):\n",
        "  random_findings.append(random.choices(fake_FINDINGS))"
      ],
      "metadata": {
        "id": "M4dsc2LXW6NA"
      },
      "execution_count": null,
      "outputs": []
    },
    {
      "cell_type": "code",
      "source": [
        "random_reported = []\n",
        "number_of_papers = 500\n",
        "for i in range(number_of_papers):\n",
        "  random_reported.append(random.choices(fake_Reported))"
      ],
      "metadata": {
        "id": "flnhkvZxW6gV"
      },
      "execution_count": null,
      "outputs": []
    },
    {
      "cell_type": "code",
      "source": [
        "random_correction_date = []\n",
        "number_of_papers = 500\n",
        "for i in range(number_of_papers):\n",
        "  random_correction_date.append(random.choices(fake_Correction_Date))"
      ],
      "metadata": {
        "id": "SngUkBzzW6yP"
      },
      "execution_count": null,
      "outputs": []
    },
    {
      "cell_type": "code",
      "source": [
        "random_retraction = []\n",
        "number_of_papers = 500\n",
        "for i in range(number_of_papers):\n",
        "  random_retraction.append(random.choices(fake_Retraction))"
      ],
      "metadata": {
        "id": "2Eyrv-SmXQWG"
      },
      "execution_count": null,
      "outputs": []
    },
    {
      "cell_type": "code",
      "source": [
        "random_correction = []\n",
        "number_of_papers = 500\n",
        "for i in range(number_of_papers):\n",
        "  random_correction.append(random.choices(fake_Correction))"
      ],
      "metadata": {
        "id": "UerpER6AXQz9"
      },
      "execution_count": null,
      "outputs": []
    },
    {
      "cell_type": "code",
      "source": [
        "random_no_action = []\n",
        "number_of_papers = 500\n",
        "for i in range(number_of_papers):\n",
        "  random_no_action.append(random.choices(fake_No_Action))"
      ],
      "metadata": {
        "id": "glExw2MtXRJx"
      },
      "execution_count": null,
      "outputs": []
    },
    {
      "cell_type": "code",
      "source": [
        "random_sum_completed = []\n",
        "number_of_papers = 500\n",
        "for i in range(number_of_papers):\n",
        "  random_sum_completed.append(random.choices(fake_SUM_Completed))"
      ],
      "metadata": {
        "id": "E0Tr9bLqYYL9"
      },
      "execution_count": null,
      "outputs": []
    },
    {
      "cell_type": "code",
      "source": [
        "random_other_journals = []\n",
        "number_of_papers = 500\n",
        "for i in range(number_of_papers):\n",
        "  random_other_journals.append(random.choices(fake_Other_Journals))"
      ],
      "metadata": {
        "id": "yzwXBzXXYYUR"
      },
      "execution_count": null,
      "outputs": []
    },
    {
      "cell_type": "code",
      "source": [
        "random_publication_rate = []\n",
        "number_of_papers = 500\n",
        "for i in range(number_of_papers):\n",
        "  random_publication_rate.append(random.choices(fake_Publication_Rate))"
      ],
      "metadata": {
        "id": "QCt8AesLYYgA"
      },
      "execution_count": null,
      "outputs": []
    },
    {
      "cell_type": "code",
      "source": [
        "random_duration = []\n",
        "number_of_papers = 500\n",
        "for i in range(number_of_papers):\n",
        "  random_duration.append(random.choices(fake_Duration))"
      ],
      "metadata": {
        "id": "p-sadSJuYYoE"
      },
      "execution_count": null,
      "outputs": []
    },
    {
      "cell_type": "code",
      "source": [
        "random_highest_degree = []\n",
        "number_of_papers = 500\n",
        "for i in range(number_of_papers):\n",
        "  random_highest_degree.append(random.choices(fake_highest_degree))"
      ],
      "metadata": {
        "id": "lmJ9n3-AYYw8"
      },
      "execution_count": null,
      "outputs": []
    },
    {
      "cell_type": "code",
      "source": [
        "random_degree_area = []\n",
        "number_of_papers = 500\n",
        "for i in range(number_of_papers):\n",
        "  random_degree_area.append(random.choices(fake_degree_area))"
      ],
      "metadata": {
        "id": "m2j3Q22SYcee"
      },
      "execution_count": null,
      "outputs": []
    },
    {
      "cell_type": "code",
      "source": [
        "random_lab_size = []\n",
        "number_of_papers = 500\n",
        "for i in range(number_of_papers):\n",
        "  random_lab_size.append(random.choices(fake_Lab_Size))"
      ],
      "metadata": {
        "id": "cucCWLh1YcpG"
      },
      "execution_count": null,
      "outputs": []
    },
    {
      "cell_type": "code",
      "source": [
        "random_rank = []\n",
        "number_of_papers = 500\n",
        "for i in range(number_of_papers):\n",
        "  random_rank.append(random.choices(fake_Rank))"
      ],
      "metadata": {
        "id": "JOpmwC-kYcwq"
      },
      "execution_count": null,
      "outputs": []
    },
    {
      "cell_type": "code",
      "source": [
        "random_temperature = []\n",
        "number_of_papers = 500\n",
        "for i in range(number_of_papers):\n",
        "  random_temperature.append(random.choices(fake_Temperature))"
      ],
      "metadata": {
        "id": "4Z065x06aGKt"
      },
      "execution_count": null,
      "outputs": []
    },
    {
      "cell_type": "code",
      "source": [
        "random_anomaly = []\n",
        "number_of_papers = 500\n",
        "for i in range(number_of_papers):\n",
        "  random_anomaly.append(random.choices(fake_Anomaly))"
      ],
      "metadata": {
        "id": "wFojolFBaGWB"
      },
      "execution_count": null,
      "outputs": []
    },
    {
      "cell_type": "code",
      "source": [
        "random_county = []\n",
        "number_of_papers = 500\n",
        "for i in range(number_of_papers):\n",
        "  random_county.append(random.choices(fake_County))"
      ],
      "metadata": {
        "id": "oi-EFjUUaGgv"
      },
      "execution_count": null,
      "outputs": []
    },
    {
      "cell_type": "code",
      "source": [
        "random_RD_rank = []\n",
        "number_of_papers = 500\n",
        "for i in range(number_of_papers):\n",
        "  random_RD_rank.append(random.choices(fake_RD_Rank))"
      ],
      "metadata": {
        "id": "Nb4YRfamaGrS"
      },
      "execution_count": null,
      "outputs": []
    },
    {
      "cell_type": "code",
      "source": [
        "random_percentile = []\n",
        "number_of_papers = 500\n",
        "for i in range(number_of_papers):\n",
        "  random_percentile.append(random.choices(fake_Percentile))"
      ],
      "metadata": {
        "id": "eMzHvo4HaG2y"
      },
      "execution_count": null,
      "outputs": []
    },
    {
      "cell_type": "code",
      "source": [
        "random_RD_expenditures = []\n",
        "number_of_papers = 500\n",
        "for i in range(number_of_papers):\n",
        "  random_RD_expenditures.append(random.choices(fake_RD_Expenditures))"
      ],
      "metadata": {
        "id": "a8nNS3QWaHAf"
      },
      "execution_count": null,
      "outputs": []
    },
    {
      "cell_type": "code",
      "source": [
        "random_state = []\n",
        "number_of_papers = 500\n",
        "for i in range(number_of_papers):\n",
        "  random_state.append(random.choices(fake_State))"
      ],
      "metadata": {
        "id": "JlbZODUfaKBq"
      },
      "execution_count": null,
      "outputs": []
    },
    {
      "cell_type": "code",
      "source": [
        "random_locale = []\n",
        "number_of_papers = 500\n",
        "for i in range(number_of_papers):\n",
        "  random_locale.append(random.choices(fake_Locale))"
      ],
      "metadata": {
        "id": "6biTDtd4aKNU"
      },
      "execution_count": null,
      "outputs": []
    },
    {
      "cell_type": "code",
      "source": [
        "for index in range(number_of_papers):\n",
        "  new_row=[]\n",
        "  new_row.append(index+214)\n",
        "  new_row.append(fake_author[index])\n",
        "  new_row.append(random_titles[index][0])\n",
        "  new_row.append(random_citation[index][0])\n",
        "  new_row.append(random_doi[index][0])\n",
        "  new_row.append(random_year[index][0])\n",
        "  new_row.append(random_month[index][0])\n",
        "  new_row.append(random_0[index][0])\n",
        "  new_row.append(random_1[index][0])\n",
        "  new_row.append(random_2[index][0])\n",
        "  new_row.append(random_3[index][0])\n",
        "  new_row.append(random_findings[index][0])\n",
        "  new_row.append(random_reported[index][0])\n",
        "  new_row.append(random_correction_date[index][0])\n",
        "  new_row.append(random_retraction[index][0])\n",
        "  new_row.append(random_correction[index][0])\n",
        "  new_row.append(random_no_action[index][0])\n",
        "  new_row.append(random_sum_completed[index][0])\n",
        "  new_row.append(random_other_journals[index][0])\n",
        "  new_row.append(random_publication_rate[index][0])\n",
        "  new_row.append(random_duration[index][0])\n",
        "  new_row.append(random_highest_degree[index][0])\n",
        "  new_row.append(random_degree_area[index][0])\n",
        "  new_row.append(random_lab_size[index][0])\n",
        "  new_row.append(fake_affil[index])\n",
        "  new_row.append(random_rank[index][0])\n",
        "  new_row.append(random_temperature[index][0])\n",
        "  new_row.append(random_anomaly[index][0])\n",
        "  new_row.append(random_county[index][0])\n",
        "  new_row.append(random_locale[index][0])\n",
        "  new_row.append(random_state[index][0])\n",
        "  new_row.append(random_RD_rank[index][0])\n",
        "  new_row.append(random_percentile[index][0])\n",
        "  new_row.append(random_RD_expenditures[index][0])\n",
        "  df.loc[len(df)] = new_row\n"
      ],
      "metadata": {
        "id": "9FJJS-r4g14e"
      },
      "execution_count": null,
      "outputs": []
    },
    {
      "cell_type": "code",
      "source": [
        "df.to_csv('/content/bik_dataset_w_500_fake_papers.csv')"
      ],
      "metadata": {
        "id": "R_mj5eqBnS2L"
      },
      "execution_count": null,
      "outputs": []
    },
    {
      "cell_type": "code",
      "source": [
        "df_prob = pd.read_csv('/content/grover_probabilities.csv')"
      ],
      "metadata": {
        "id": "tOSumw_qkERZ"
      },
      "execution_count": null,
      "outputs": []
    },
    {
      "cell_type": "code",
      "source": [
        "prob=df_prob['machine_probability'].tolist()"
      ],
      "metadata": {
        "id": "5hOv5iQRl6hV"
      },
      "execution_count": null,
      "outputs": []
    },
    {
      "cell_type": "code",
      "source": [
        "df_final=pd.read_csv('/content/bik_dataset_w_500_fake_papers.csv')"
      ],
      "metadata": {
        "id": "i_PGn35KYooI"
      },
      "execution_count": null,
      "outputs": []
    },
    {
      "cell_type": "code",
      "source": [
        "df_final['grover_probabilities']=prob"
      ],
      "metadata": {
        "id": "Sd6p771mYv6a"
      },
      "execution_count": null,
      "outputs": []
    },
    {
      "cell_type": "code",
      "source": [
        "del df_final['Unnamed: 0']\n",
        "del df_final['Unnamed: 0.1']"
      ],
      "metadata": {
        "id": "VHtd5C4WbkNr"
      },
      "execution_count": null,
      "outputs": []
    },
    {
      "cell_type": "code",
      "source": [
        "df_final.to_csv('/content/Final_bik_dataset_V2.tsv',sep='\\t')"
      ],
      "metadata": {
        "id": "N4oPoWN7Y53x"
      },
      "execution_count": null,
      "outputs": []
    }
  ]
}